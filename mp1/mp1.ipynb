{
 "cells": [
  {
   "cell_type": "code",
   "execution_count": 1,
   "metadata": {},
   "outputs": [
    {
     "name": "stdout",
     "output_type": "stream",
     "text": [
      "P vs P\n",
      "S vs S\n",
      "P vs S\n",
      "S vs R\n",
      "P vs S\n",
      "S vs R\n",
      "P vs S\n",
      "S vs S\n",
      "P vs S\n",
      "S vs S\n",
      "P vs S\n",
      "S vs S\n",
      "P vs S\n",
      "S vs R\n",
      "P vs S\n",
      "S vs S\n",
      "P vs S\n",
      "S vs R\n",
      "P vs S\n",
      "S vs R\n",
      "P vs S\n",
      "S vs S\n",
      "Q vs S\n"
     ]
    },
    {
     "data": {
      "text/plain": [
       "[<matplotlib.lines.Line2D at 0x20ce23c5e50>]"
      ]
     },
     "execution_count": 1,
     "metadata": {},
     "output_type": "execute_result"
    },
    {
     "data": {
      "image/png": "[encoded data removed]",
      "text/plain": [
       "<Figure size 432x288 with 1 Axes>"
      ]
     },
     "metadata": {
      "needs_background": "light"
     },
     "output_type": "display_data"
    }
   ],
   "source": [
    "import numpy as np\n",
    "import matplotlib.pylab as plt\n",
    "\n",
    "def getAgainst(val):\n",
    "    result = 0\n",
    "    if val == 0:\n",
    "        result = 1\n",
    "    if val == 1:\n",
    "        result = 2\n",
    "    return result\n",
    "\n",
    "def checkError(competitor, me):\n",
    "    if (competitor == 'P' and me == 'S') or (competitor == 'S' and me == 'R') or (competitor == 'R' and me == 'P'):\n",
    "        return 1\n",
    "    if competitor == me or competitor == 'Q':\n",
    "        return 0\n",
    "    return -1\n",
    "\n",
    "\n",
    "sign = ['P', 'S', 'R']\n",
    "signNum = [0, 1, 2]\n",
    "probabilities = np.array([[1,0,0], [1,0,0],[1,0,0]])\n",
    "\n",
    "against = 0\n",
    "previous = 0\n",
    "\n",
    "x = [0,]\n",
    "y = [0,]\n",
    "\n",
    "for i in range(1000):\n",
    "    myVal = input(\"->\")\n",
    "    if myVal == 'P' or myVal == 'S' or myVal == 'R' or myVal == 'Q':\n",
    "        print(myVal + ' vs ' + sign[against])\n",
    "\n",
    "        x.append(x[-1] + 1)\n",
    "        y.append(y[-1] + checkError(myVal, sign[against]))\n",
    "\n",
    "        if myVal == 'P':\n",
    "            probabilities[previous][0] += 1\n",
    "            choice = np.random.choice(signNum,p=(probabilities[0,:]/sum(probabilities[0,:])))\n",
    "            against = getAgainst(choice)\n",
    "            previous = 0\n",
    "        if myVal == 'S':\n",
    "            probabilities[previous][1] += 1\n",
    "            choice = np.random.choice(signNum, p=(probabilities[1,:]/sum(probabilities[1,:])))\n",
    "            against = getAgainst(choice)\n",
    "            previous = 1\n",
    "        if myVal == 'R':\n",
    "            probabilities[previous][2] += 1\n",
    "            choice = np.random.choice(signNum, p=(probabilities[2,:]/sum(probabilities[2,:])))\n",
    "            against = getAgainst(choice)\n",
    "            previous = 2\n",
    "        if myVal == 'Q':\n",
    "            break\n",
    "\n",
    "plt.plot(x,y)\n",
    "\n",
    "\n",
    "\n"
   ]
  }
 ],
 "metadata": {
  "interpreter": {
   "hash": "c0dc64358c497e45ed1efe1e154525633fcce6773e313655e34fcc18032dae12"
  },
  "kernelspec": {
   "display_name": "Python 3.8.0 ('env')",
   "language": "python",
   "name": "python3"
  },
  "language_info": {
   "codemirror_mode": {
    "name": "ipython",
    "version": 3
   },
   "file_extension": ".py",
   "mimetype": "text/x-python",
   "name": "python",
   "nbconvert_exporter": "python",
   "pygments_lexer": "ipython3",
   "version": "3.8.0"
  },
  "orig_nbformat": 4
 },
 "nbformat": 4,
 "nbformat_minor": 2
}
